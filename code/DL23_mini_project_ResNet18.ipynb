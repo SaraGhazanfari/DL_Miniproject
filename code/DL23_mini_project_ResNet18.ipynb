{
  "nbformat": 4,
  "nbformat_minor": 0,
  "metadata": {
    "colab": {
      "provenance": []
    },
    "kernelspec": {
      "name": "python3",
      "display_name": "Python 3"
    },
    "language_info": {
      "name": "python"
    },
    "accelerator": "GPU",
    "gpuClass": "standard"
  },
  "cells": [
    {
      "cell_type": "code",
      "execution_count": 1,
      "metadata": {
        "id": "USdn7O5XawBS"
      },
      "outputs": [],
      "source": [
        "import torch\n",
        "from torch import nn\n",
        "import torchvision\n",
        "import torchvision.transforms as transforms\n",
        "import torch.optim as optim"
      ]
    },
    {
      "cell_type": "code",
      "source": [
        "t_normalize = transforms.Normalize((0.4914, 0.4822, 0.4465), (0.247, 0.243, 0.261))\n",
        "t_horizflip = transforms.RandomHorizontalFlip()\n",
        "t_crop = transforms.RandomCrop(32, padding=4, padding_mode='reflect')\n",
        "\n",
        "transform = transforms.Compose([transforms.ToTensor(), t_normalize])\n",
        "augment = transforms.Compose([t_horizflip, t_crop, \n",
        "                              transforms.ToTensor(), t_normalize])\n",
        "\n",
        "batch_size = 256\n",
        "\n",
        "trainset = torchvision.datasets.CIFAR10(root='./data', train=True,\n",
        "                                        download=True, transform=augment)\n",
        "trainset, valset = torch.utils.data.random_split(trainset, [0.98, 0.02])\n",
        "\n",
        "trainloader = torch.utils.data.DataLoader(trainset, batch_size=batch_size,\n",
        "                                          shuffle=True, num_workers=2)\n",
        "valloader = torch.utils.data.DataLoader(valset, batch_size=batch_size,\n",
        "                                          shuffle=False, num_workers=2)\n",
        "\n",
        "testset = torchvision.datasets.CIFAR10(root='./data', train=False,\n",
        "                                       download=True, transform=transform)\n",
        "testloader = torch.utils.data.DataLoader(testset, batch_size=batch_size,\n",
        "                                         shuffle=False, num_workers=2)\n",
        "\n",
        "classes = ('plane', 'car', 'bird', 'cat',\n",
        "           'deer', 'dog', 'frog', 'horse', 'ship', 'truck')"
      ],
      "metadata": {
        "id": "MwvshN-flUfZ",
        "colab": {
          "base_uri": "https://localhost:8080/"
        },
        "outputId": "d37a47cf-1e55-4268-f126-215f1feaa0e9"
      },
      "execution_count": 2,
      "outputs": [
        {
          "output_type": "stream",
          "name": "stdout",
          "text": [
            "Files already downloaded and verified\n",
            "Files already downloaded and verified\n"
          ]
        }
      ]
    },
    {
      "cell_type": "code",
      "source": [
        "class ResNet_block(nn.Module):\n",
        "  def __init__(self, in_ch, out_ch, kernel=3, stride=1, skip=None):\n",
        "    super(ResNet_block, self).__init__()\n",
        "    self.skip = skip\n",
        "    pad = (kernel-1)//2\n",
        "    self.conv1 = nn.Conv2d(in_ch, out_ch, kernel_size=kernel, stride=stride, padding=pad, bias=False)\n",
        "    self.bn1 = nn.BatchNorm2d(out_ch)\n",
        "    self.relu1 = nn.ReLU(inplace=True)\n",
        "    self.conv2 = nn.Conv2d(out_ch, out_ch, kernel_size=kernel, stride=1, padding=pad, bias=False)\n",
        "    self.bn2 = nn.BatchNorm2d(out_ch)\n",
        "    self.relu2 = nn.ReLU(inplace=True)\n",
        "\n",
        "  def forward(self, x):\n",
        "    # print(\"input\", x.shape)\n",
        "    y = self.conv1(x)\n",
        "    y = self.bn1(y)\n",
        "    # print(\"at conv1\", y.shape)\n",
        "    y = self.relu1(y)\n",
        "    y = self.conv2(y)\n",
        "    y = self.bn2(y)\n",
        "    # print(\"at conv2\", y.shape)\n",
        "    if self.skip:\n",
        "      # If skip==None, skip is Identity\n",
        "      x = self.skip(x)\n",
        "\n",
        "    y += x\n",
        "    y = self.relu2(y)\n",
        "    return y\n",
        "\n",
        "class ResNet_skip(nn.Module):\n",
        "  def __init__(self, in_ch, out_ch, stride=1):\n",
        "    super(ResNet_skip, self).__init__()\n",
        "    self.pool = nn.MaxPool2d(kernel_size=stride, stride=stride)\n",
        "    self.conv = nn.Conv2d(in_ch, out_ch, kernel_size=1, stride=1, padding=0, bias=False)\n",
        "    self.bn = nn.BatchNorm2d(out_ch)\n",
        "    \n",
        "  def forward(self, x):\n",
        "    y = self.pool(x)\n",
        "    y = self.conv(y)\n",
        "    y = self.bn(y)\n",
        "    return y\n",
        "\n",
        "class ResNet18(nn.Module):\n",
        "  def __init__(self, layer_channels, num_classes=10):\n",
        "    super(ResNet18, self).__init__()\n",
        "    \n",
        "    lc_input, lc1, lc2, lc3, lc4, lc5 = layer_channels\n",
        "    self.conv1 = nn.Sequential(nn.Conv2d(lc_input, lc1, kernel_size=3, stride=2, padding=1, bias=False), nn.BatchNorm2d(lc1), nn.ReLU(inplace=True))\n",
        "\n",
        "    self.layer1 = nn.Sequential(ResNet_block(lc1, lc1), ResNet_block(lc1, lc1))\n",
        "    skip2 = ResNet_skip(lc1, lc2, stride=2)\n",
        "    self.layer2 = nn.Sequential(ResNet_block(lc1, lc2, stride=2, skip=skip2), ResNet_block(lc2, lc2))\n",
        "    skip3 = ResNet_skip(lc2, lc3, stride=2)\n",
        "    self.layer3 = nn.Sequential(ResNet_block(lc2, lc3, stride=2, skip=skip3), ResNet_block(lc3, lc3))\n",
        "    skip4 = ResNet_skip(lc3, lc4, stride=2)\n",
        "    self.layer4 = nn.Sequential(ResNet_block(lc3, lc4, stride=2, skip=skip4), ResNet_block(lc4, lc4))\n",
        "    skip5 = ResNet_skip(lc4, lc5, stride=2)\n",
        "    self.layer5 = nn.Sequential(ResNet_block(lc4, lc5, stride=2, skip=skip5), ResNet_block(lc5, lc5))\n",
        "\n",
        "    self.avgpool = nn.AdaptiveAvgPool2d((1, 1))\n",
        "    self.fc = nn.Linear(lc5, num_classes)\n",
        "\n",
        "  def forward(self, x):\n",
        "    # print(\"input\", x.shape)\n",
        "    y = self.conv1(x)\n",
        "    # print(\"after inp conv\", y.shape)\n",
        "    y = self.layer1(y)\n",
        "    y = self.layer2(y)\n",
        "    y = self.layer3(y)\n",
        "    y = self.layer4(y)\n",
        "    y = self.layer5(y)\n",
        "\n",
        "    y = self.avgpool(y)\n",
        "    y = torch.squeeze(y)\n",
        "    y = self.fc(y)\n",
        "\n",
        "    return y"
      ],
      "metadata": {
        "id": "CU--1X2Lb9q0"
      },
      "execution_count": 3,
      "outputs": []
    },
    {
      "cell_type": "code",
      "source": [
        "device = torch.device(\"cuda:0\" if torch.cuda.is_available() else \"cpu\")\n",
        "print(device)\n",
        "\n",
        "model = ResNet18([3, 64, 128, 144, 192, 256])\n",
        "model = model.to(device)\n",
        "\n",
        "print('full', sum(p.numel() for p in model.parameters() if p.requires_grad))\n",
        "print('conv1', sum(p.numel() for p in model.conv1.parameters() if p.requires_grad))\n",
        "print('layer1', sum(p.numel() for p in model.layer1.parameters() if p.requires_grad))\n",
        "print('layer2', sum(p.numel() for p in model.layer2.parameters() if p.requires_grad))\n",
        "print('layer3', sum(p.numel() for p in model.layer3.parameters() if p.requires_grad))\n",
        "print('layer4', sum(p.numel() for p in model.layer4.parameters() if p.requires_grad))\n",
        "print('layer5', sum(p.numel() for p in model.layer5.parameters() if p.requires_grad))\n",
        "print('fc', sum(p.numel() for p in model.fc.parameters() if p.requires_grad))\n",
        "\n",
        "epochs = 100\n",
        "max_lr = 0.01\n",
        "grad_clip = 0.1 # put None for 0\n",
        "weight_decay = 1e-4\n",
        "learning_rate = 0.001\n",
        "opt_func = torch.optim.Adam\n",
        "# opt_func = torch.optim.SGD\n",
        "# momentum=0.9\n",
        "\n",
        "criterion = nn.CrossEntropyLoss()\n",
        "optimizer = opt_func(model.parameters(), lr=learning_rate, weight_decay=weight_decay)\n",
        "# lr_sched = None\n",
        "# lr_sched = torch.optim.lr_scheduler.StepLR(optimizer, step_size=20, gamma=0.1, verbose=True)\n",
        "lr_sched = torch.optim.lr_scheduler.OneCycleLR(optimizer, max_lr=max_lr, steps_per_epoch=len(trainloader), epochs=epochs)\n",
        "# lr_sched = torch.optim.lr_scheduler.CosineAnnealingLR(optimizer, T_max=epochs, eta_min=0.0001, verbose=True)"
      ],
      "metadata": {
        "id": "e3tB46zilY4L",
        "colab": {
          "base_uri": "https://localhost:8080/"
        },
        "outputId": "a236c174-56ef-477b-8e14-29d2831f6050"
      },
      "execution_count": 4,
      "outputs": [
        {
          "output_type": "stream",
          "name": "stdout",
          "text": [
            "cuda:0\n",
            "full 4960874\n",
            "conv1 1856\n",
            "layer1 147968\n",
            "layer2 525568\n",
            "layer3 745632\n",
            "layer4 1273728\n",
            "layer5 2263552\n",
            "fc 2570\n"
          ]
        }
      ]
    },
    {
      "cell_type": "code",
      "source": [
        "def train_loop(model, dataset, optimizer, criterion, device, lr_sched=None, grad_clip=None):\n",
        "  total_loss = 0.0\n",
        "  accurate = 0\n",
        "  model.train()\n",
        "\n",
        "  for i, data in enumerate(dataset):\n",
        "    # get the inputs; data is a list of [inputs, labels]\n",
        "    inputs, labels = data\n",
        "    inputs, labels = inputs.to(device), labels.to(device)\n",
        "    # zero the parameter gradients\n",
        "    optimizer.zero_grad()\n",
        "\n",
        "    # forward + backward + optimize\n",
        "    outputs = model(inputs)\n",
        "    loss = criterion(outputs, labels)\n",
        "    loss.backward()\n",
        "\n",
        "    # gradient clipping\n",
        "    if grad_clip:\n",
        "      nn.utils.clip_grad_value_(model.parameters(), grad_clip)\n",
        "    optimizer.step()\n",
        "\n",
        "    # learning scheduler update\n",
        "    if lr_sched:\n",
        "      lr_sched.step()\n",
        "    \n",
        "    # Accuracy\n",
        "    probs = torch.softmax(outputs, 1)\n",
        "    preds = torch.argmax(probs, 1)\n",
        "    # print(probs.cpu(), preds.cpu(), labels.cpu())\n",
        "    count = sum(preds == labels)\n",
        "    accurate += count.item() / labels.shape[0]\n",
        "\n",
        "    total_loss += loss.item()\n",
        "  \n",
        "  return total_loss / len(dataset), accurate / len(dataset)\n",
        "\n",
        "def eval_loop(model, dataset, criterion, device):\n",
        "  total_loss = 0.0\n",
        "  accurate = 0\n",
        "  model.eval()\n",
        "  with torch.no_grad():\n",
        "    for data in dataset:\n",
        "      inputs, labels = data\n",
        "      inputs, labels = inputs.to(device), labels.to(device)\n",
        "      \n",
        "      # Run the model forwards\n",
        "      outputs = model(inputs)\n",
        "      loss = criterion(outputs, labels)\n",
        "      total_loss += loss.item()\n",
        "\n",
        "      # Accuracy\n",
        "      probs = torch.softmax(outputs, 1)\n",
        "      preds = torch.argmax(probs, 1)\n",
        "      # print(probs.cpu(), preds.cpu(), labels.cpu())\n",
        "      count = sum(preds == labels)\n",
        "      accurate += count.item() / labels.shape[0]\n",
        "\n",
        "  return total_loss / len(dataset), accurate / len(dataset)"
      ],
      "metadata": {
        "id": "Cfh8tmKa6mUj"
      },
      "execution_count": 5,
      "outputs": []
    },
    {
      "cell_type": "code",
      "source": [
        "best_val_loss = float('inf')\n",
        "best_val_acc = 0\n",
        "train_loss_list, train_acc_list, val_loss_list, val_acc_list = list(), list(), list(), list()\n",
        "for epoch in range(epochs):  # loop over the dataset multiple times\n",
        "  train_loss, train_acc = train_loop(model, trainloader, optimizer, criterion, device, lr_sched, grad_clip)\n",
        "\n",
        "  val_loss, val_acc = eval_loop(model, valloader, criterion, device)\n",
        "  print(f'Epoch:{epoch} train:[{train_loss:.3E}, {train_acc*100:.2f}%] val:[{val_loss:.3E}, {val_acc*100:.2f}%])') \n",
        "  train_loss_list.append(train_loss)\n",
        "  train_acc_list.append(train_acc*100)\n",
        "  val_loss_list.append(val_loss)\n",
        "  val_acc_list.append(val_acc*100)\n",
        "  if val_loss < best_val_loss or val_acc > best_val_acc:\n",
        "    print(\"## BEST\")\n",
        "    best_val_loss = min(val_loss, best_val_loss)\n",
        "    best_val_acc = max(val_acc, best_val_acc)\n",
        "    torch.save(model.state_dict(), 'best_model.pt')\n",
        "\n",
        "print('Finished Training')\n",
        "\n",
        "model.load_state_dict(torch.load('best_model.pt'))\n",
        "loss, acc = eval_loop(model, testloader, criterion, device)\n",
        "print(f'Test:[{loss:.3E}, {acc*100:.2f}%]')"
      ],
      "metadata": {
        "colab": {
          "base_uri": "https://localhost:8080/"
        },
        "id": "76oTiatZvPn7",
        "outputId": "a5419dc3-37f2-4dfc-f36f-8f912617907a"
      },
      "execution_count": null,
      "outputs": [
        {
          "output_type": "stream",
          "name": "stdout",
          "text": [
            "Epoch:0 train:[1.539E+00, 43.72%] val:[1.405E+00, 48.05%])\n",
            "## BEST\n",
            "Epoch:1 train:[1.148E+00, 58.79%] val:[1.080E+00, 61.89%])\n",
            "## BEST\n",
            "Epoch:2 train:[9.677E-01, 65.49%] val:[1.025E+00, 64.17%])\n",
            "## BEST\n",
            "Epoch:3 train:[8.463E-01, 70.10%] val:[1.034E+00, 65.77%])\n",
            "## BEST\n",
            "Epoch:4 train:[7.621E-01, 73.22%] val:[9.216E-01, 69.23%])\n",
            "## BEST\n",
            "Epoch:5 train:[7.009E-01, 75.60%] val:[8.237E-01, 70.87%])\n",
            "## BEST\n",
            "Epoch:6 train:[6.539E-01, 77.11%] val:[8.205E-01, 70.58%])\n",
            "## BEST\n",
            "Epoch:7 train:[6.295E-01, 78.02%] val:[7.948E-01, 71.98%])\n",
            "## BEST\n",
            "Epoch:8 train:[6.016E-01, 78.98%] val:[7.172E-01, 73.06%])\n",
            "## BEST\n",
            "Epoch:9 train:[5.612E-01, 80.57%] val:[6.661E-01, 76.90%])\n",
            "## BEST\n",
            "Epoch:10 train:[5.384E-01, 81.27%] val:[6.476E-01, 77.05%])\n",
            "## BEST\n",
            "Epoch:11 train:[5.194E-01, 82.03%] val:[6.217E-01, 78.34%])\n",
            "## BEST\n",
            "Epoch:12 train:[5.100E-01, 82.41%] val:[6.625E-01, 77.99%])\n",
            "Epoch:13 train:[4.996E-01, 82.80%] val:[7.004E-01, 75.45%])\n",
            "Epoch:14 train:[4.882E-01, 83.25%] val:[7.253E-01, 75.59%])\n",
            "Epoch:15 train:[4.788E-01, 83.57%] val:[7.203E-01, 75.80%])\n",
            "Epoch:16 train:[4.770E-01, 83.56%] val:[7.131E-01, 75.41%])\n",
            "Epoch:17 train:[4.755E-01, 83.61%] val:[8.579E-01, 73.63%])\n",
            "Epoch:18 train:[4.759E-01, 83.65%] val:[6.926E-01, 77.59%])\n",
            "Epoch:19 train:[4.803E-01, 83.50%] val:[7.131E-01, 76.19%])\n",
            "Epoch:20 train:[4.897E-01, 83.41%] val:[7.944E-01, 73.08%])\n",
            "Epoch:21 train:[4.863E-01, 83.40%] val:[6.411E-01, 78.48%])\n",
            "## BEST\n",
            "Epoch:22 train:[4.923E-01, 83.24%] val:[6.126E-01, 78.37%])\n",
            "## BEST\n",
            "Epoch:23 train:[4.997E-01, 82.89%] val:[6.654E-01, 78.50%])\n",
            "## BEST\n",
            "Epoch:24 train:[5.115E-01, 82.51%] val:[5.779E-01, 78.98%])\n",
            "## BEST\n",
            "Epoch:25 train:[5.113E-01, 82.54%] val:[6.287E-01, 78.66%])\n",
            "Epoch:26 train:[5.144E-01, 82.35%] val:[1.038E+00, 67.68%])\n",
            "Epoch:27 train:[5.241E-01, 82.17%] val:[6.114E-01, 78.45%])\n",
            "Epoch:28 train:[5.200E-01, 82.27%] val:[8.186E-01, 71.67%])\n",
            "Epoch:29 train:[5.271E-01, 81.86%] val:[7.441E-01, 75.89%])\n",
            "Epoch:30 train:[5.234E-01, 81.99%] val:[6.413E-01, 79.04%])\n",
            "## BEST\n",
            "Epoch:31 train:[5.240E-01, 82.09%] val:[6.868E-01, 76.56%])\n",
            "Epoch:32 train:[5.189E-01, 82.40%] val:[7.461E-01, 76.08%])\n",
            "Epoch:33 train:[5.216E-01, 82.11%] val:[8.099E-01, 73.63%])\n",
            "Epoch:34 train:[5.239E-01, 81.97%] val:[6.805E-01, 76.66%])\n",
            "Epoch:35 train:[5.216E-01, 82.11%] val:[5.972E-01, 80.16%])\n",
            "## BEST\n",
            "Epoch:36 train:[5.202E-01, 82.01%] val:[7.186E-01, 76.09%])\n",
            "Epoch:37 train:[5.192E-01, 82.36%] val:[7.211E-01, 74.80%])\n",
            "Epoch:38 train:[5.173E-01, 82.13%] val:[5.398E-01, 81.23%])\n",
            "## BEST\n",
            "Epoch:39 train:[5.157E-01, 82.32%] val:[6.809E-01, 75.80%])\n",
            "Epoch:40 train:[5.009E-01, 82.78%] val:[7.946E-01, 73.65%])\n",
            "Epoch:41 train:[5.009E-01, 82.73%] val:[7.562E-01, 76.88%])\n",
            "Epoch:42 train:[4.979E-01, 82.91%] val:[9.844E-01, 70.38%])\n",
            "Epoch:43 train:[4.924E-01, 83.07%] val:[6.516E-01, 77.90%])\n",
            "Epoch:44 train:[4.896E-01, 83.31%] val:[6.413E-01, 78.10%])\n",
            "Epoch:45 train:[4.840E-01, 83.32%] val:[5.649E-01, 80.20%])\n",
            "Epoch:46 train:[4.797E-01, 83.40%] val:[6.244E-01, 79.36%])\n",
            "Epoch:47 train:[4.753E-01, 83.54%] val:[5.927E-01, 80.45%])\n",
            "Epoch:48 train:[4.709E-01, 83.63%] val:[6.118E-01, 78.83%])\n",
            "Epoch:49 train:[4.633E-01, 84.07%] val:[5.538E-01, 81.07%])\n",
            "Epoch:50 train:[4.537E-01, 84.42%] val:[6.150E-01, 80.47%])\n",
            "Epoch:51 train:[4.497E-01, 84.52%] val:[5.940E-01, 79.49%])\n",
            "Epoch:52 train:[4.459E-01, 84.69%] val:[6.056E-01, 80.71%])\n",
            "Epoch:53 train:[4.427E-01, 84.58%] val:[6.077E-01, 79.92%])\n",
            "Epoch:54 train:[4.385E-01, 84.86%] val:[5.111E-01, 82.01%])\n",
            "## BEST\n",
            "Epoch:55 train:[4.245E-01, 85.40%] val:[5.097E-01, 81.01%])\n",
            "## BEST\n",
            "Epoch:56 train:[4.134E-01, 85.77%] val:[4.997E-01, 83.89%])\n",
            "## BEST\n",
            "Epoch:57 train:[4.139E-01, 85.81%] val:[5.213E-01, 81.99%])\n",
            "Epoch:58 train:[4.052E-01, 86.18%] val:[4.689E-01, 83.10%])\n",
            "## BEST\n",
            "Epoch:59 train:[3.955E-01, 86.50%] val:[5.983E-01, 80.15%])\n",
            "Epoch:60 train:[3.907E-01, 86.58%] val:[4.779E-01, 83.39%])\n",
            "Epoch:61 train:[3.840E-01, 86.63%] val:[4.561E-01, 84.20%])\n",
            "## BEST\n",
            "Epoch:62 train:[3.782E-01, 86.99%] val:[4.596E-01, 82.53%])\n",
            "Epoch:63 train:[3.704E-01, 87.21%] val:[4.783E-01, 83.43%])\n",
            "Epoch:64 train:[3.607E-01, 87.57%] val:[4.891E-01, 82.59%])\n",
            "Epoch:65 train:[3.474E-01, 88.03%] val:[4.695E-01, 85.48%])\n",
            "## BEST\n",
            "Epoch:66 train:[3.488E-01, 87.94%] val:[4.186E-01, 85.11%])\n",
            "## BEST\n",
            "Epoch:67 train:[3.322E-01, 88.57%] val:[4.068E-01, 84.95%])\n",
            "## BEST\n",
            "Epoch:68 train:[3.260E-01, 88.64%] val:[4.549E-01, 84.37%])\n",
            "Epoch:69 train:[3.178E-01, 89.00%] val:[4.071E-01, 86.17%])\n",
            "## BEST\n",
            "Epoch:70 train:[3.122E-01, 89.18%] val:[3.742E-01, 87.59%])\n",
            "## BEST\n",
            "Epoch:71 train:[2.936E-01, 89.72%] val:[4.054E-01, 85.67%])\n",
            "Epoch:72 train:[2.907E-01, 90.12%] val:[3.775E-01, 86.18%])\n",
            "Epoch:73 train:[2.795E-01, 90.36%] val:[3.769E-01, 86.63%])\n",
            "Epoch:74 train:[2.730E-01, 90.64%] val:[3.551E-01, 86.96%])\n",
            "## BEST\n",
            "Epoch:75 train:[2.597E-01, 91.02%] val:[3.811E-01, 87.18%])\n",
            "Epoch:76 train:[2.532E-01, 91.20%] val:[3.487E-01, 87.84%])\n",
            "## BEST\n",
            "Epoch:77 train:[2.434E-01, 91.42%] val:[3.413E-01, 89.04%])\n",
            "## BEST\n",
            "Epoch:78 train:[2.293E-01, 92.14%] val:[3.532E-01, 87.84%])\n",
            "Epoch:79 train:[2.257E-01, 92.14%] val:[3.105E-01, 88.37%])\n",
            "## BEST\n",
            "Epoch:80 train:[2.159E-01, 92.54%] val:[3.234E-01, 88.93%])\n",
            "Epoch:81 train:[2.050E-01, 92.89%] val:[3.211E-01, 89.40%])\n",
            "## BEST\n",
            "Epoch:82 train:[1.910E-01, 93.26%] val:[3.329E-01, 88.48%])\n",
            "Epoch:83 train:[1.860E-01, 93.49%] val:[3.129E-01, 90.15%])\n",
            "## BEST\n",
            "Epoch:84 train:[1.725E-01, 93.99%] val:[3.333E-01, 89.14%])\n",
            "Epoch:85 train:[1.642E-01, 94.19%] val:[3.062E-01, 89.33%])\n",
            "## BEST\n",
            "Epoch:86 train:[1.561E-01, 94.54%] val:[3.243E-01, 88.77%])\n",
            "Epoch:87 train:[1.470E-01, 94.80%] val:[3.235E-01, 89.85%])\n",
            "Epoch:88 train:[1.389E-01, 95.14%] val:[2.842E-01, 89.39%])\n",
            "## BEST\n",
            "Epoch:89 train:[1.269E-01, 95.66%] val:[2.731E-01, 90.40%])\n",
            "## BEST\n",
            "Epoch:90 train:[1.228E-01, 95.77%] val:[2.888E-01, 89.86%])\n",
            "Epoch:91 train:[1.164E-01, 96.01%] val:[3.418E-01, 89.83%])\n",
            "Epoch:92 train:[1.097E-01, 96.16%] val:[3.099E-01, 90.98%])\n",
            "## BEST\n",
            "Epoch:93 train:[1.086E-01, 96.27%] val:[2.777E-01, 90.78%])\n",
            "Epoch:94 train:[1.039E-01, 96.41%] val:[2.870E-01, 91.01%])\n",
            "## BEST\n",
            "Epoch:95 train:[1.005E-01, 96.61%] val:[2.739E-01, 90.27%])\n",
            "Epoch:96 train:[9.896E-02, 96.56%] val:[2.760E-01, 91.54%])\n",
            "## BEST\n",
            "Epoch:97 train:[9.701E-02, 96.72%] val:[2.929E-01, 89.39%])\n"
          ]
        }
      ]
    },
    {
      "cell_type": "code",
      "source": [
        "model.load_state_dict(torch.load('best_model.pt'))\n",
        "loss, acc = eval_loop(model, testloader, criterion, device)\n",
        "print(f'Test:[{loss:.3E}, {acc*100:.2f}%]')"
      ],
      "metadata": {
        "colab": {
          "base_uri": "https://localhost:8080/"
        },
        "id": "xjNtOcWpYzq1",
        "outputId": "92064849-d212-408b-ddd6-8467297d26a9"
      },
      "execution_count": 12,
      "outputs": [
        {
          "output_type": "stream",
          "name": "stdout",
          "text": [
            "Test:[2.884E-01, 91.01%]\n"
          ]
        }
      ]
    },
    {
      "cell_type": "code",
      "source": [
        "\n",
        "# importing package\n",
        "import matplotlib.pyplot as plt\n",
        "  \n",
        "def plot_loss(train_loss_history, valid_loss_history):\n",
        "  plt.plot(range(epochs),train_loss_history,'-',linewidth=3,label='Train Loss') \n",
        "  plt.plot(range(epochs),valid_loss_history,'-',linewidth=3,label='Val Loss') \n",
        "  plt.xlabel('Epoch')\n",
        "  plt.ylabel('Loss')\n",
        "  plt.legend() \n",
        "  plt.grid(True)\n",
        "  plt.show()\n",
        "\n",
        "plot_loss(train_loss_list, val_loss_list)"
      ],
      "metadata": {
        "colab": {
          "base_uri": "https://localhost:8080/",
          "height": 452
        },
        "id": "-E5dtV0aNiAu",
        "outputId": "06d5befd-b4a4-4f71-ac0f-e8c777bea020"
      },
      "execution_count": 13,
      "outputs": [
        {
          "output_type": "display_data",
          "data": {
            "text/plain": [
              "<Figure size 640x480 with 1 Axes>"
            ],
            "image/png": "[encoded data removed]"
          },
          "metadata": {}
        }
      ]
    },
    {
      "cell_type": "code",
      "source": [
        "def plot_acc(train_acc_history, valid_acc_history):\n",
        "  plt.plot(range(epochs),train_acc_history,'-',linewidth=3,label='Train Acc') \n",
        "  plt.plot(range(epochs),valid_acc_history,'-',linewidth=3,label='Val Acc') \n",
        "  plt.xlabel('Epoch')\n",
        "  plt.ylabel('Accuracy')\n",
        "  plt.legend() \n",
        "  plt.grid(True)\n",
        "  plt.show()\n",
        "plot_acc(train_acc_list, val_acc_list)"
      ],
      "metadata": {
        "colab": {
          "base_uri": "https://localhost:8080/",
          "height": 449
        },
        "id": "qD_4JfAvPcx4",
        "outputId": "b1e22441-b719-4119-f4af-60d5e98458cc"
      },
      "execution_count": 14,
      "outputs": [
        {
          "output_type": "display_data",
          "data": {
            "text/plain": [
              "<Figure size 640x480 with 1 Axes>"
            ],
            "image/png": "[encoded data removed]"
          },
          "metadata": {}
        }
      ]
    },
    {
      "cell_type": "code",
      "source": [
        "import numpy as np\n",
        "np.save('train_loss.npy', train_loss_list)\n",
        "np.save('train_acc.npy', train_acc_list)\n",
        "np.save('valid_loss.npy', val_loss_list)\n",
        "np.save('valid_acc.npy', val_acc_list)"
      ],
      "metadata": {
        "id": "BBuPGPRB938q"
      },
      "execution_count": 17,
      "outputs": []
    }
  ]
}